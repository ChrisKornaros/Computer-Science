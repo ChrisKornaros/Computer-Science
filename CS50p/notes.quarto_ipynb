{
  "cells": [
    {
      "cell_type": "markdown",
      "metadata": {},
      "source": [
        "---\n",
        "title: CS50p Notes by Unit\n",
        "format: html\n",
        "theme: solar\n",
        "toc: true\n",
        "toc-location: left\n",
        "toc-expand: true\n",
        "fontcolor: \"#ECEFF1\"\n",
        "# Still want to change/configure the background color for the callout boxes\n",
        "code-copy: hover\n",
        "code-line-numbers: true\n",
        "code-block-bg: \"#37474F\"\n",
        "---\n",
        "\n",
        "# Document Introduction {#sec-introduction .unnumbered}\n",
        "## Git {#sec-git .unnumbered}\n",
        ":::{}\n",
        "- My local Computer_Science repo now has a specific branch for CS50p\n",
        "  - Note, you can use git within the .venv or outside of it, git is unaffected by the virtual environment for CS50p.\n",
        "\n",
        "```{zsh}\n",
        "git checkout cs50p\n",
        "git add .\n",
        "git commit -m \"Saving recent work for CS50p.\"\n",
        "git checkout main\n",
        "git merge --no-ff cs50p main\n",
        "git push\n",
        "```\n",
        "\n",
        ":::\n",
        "\n",
        "## Quarto and Markdown {#sec-quarto-markdown .unnumbered}\n",
        ":::{}\n",
        "- Quarto is used from the command line, the .qmd file uses markdown syntax\n",
        "- Using Docker to spin up a container to run the quarto preview was clunky and complicated, still did not work\n",
        "  - So, simplest solution is spinning up a virtual envionment in the folder I want to work from and then using the venv\n",
        "\n",
        "### Some general markdown tips for .qmd files {#sec-md-tips .unnumbered}\n",
        "- Even though there are general settings set at the top of the `.qmd` file, when settings are changed on specific objects, *all* of their settings must be configured, even the document's defaults\n",
        ":::\n",
        "\n",
        ":::{#nte-quarto_md_basics .callout-note .unnumbered}\n",
        "## Quarto Markdown Basics\n",
        "\n",
        "For more markdown tips, docs, and shortcuts <https://quarto.org/docs/authoring/markdown-basics.html>\n",
        ":::\n",
        "\n",
        "# Unit 0: Functions and Variables {#sec-unit_0 .unnumbered}\n",
        "## Lecture 0 {#sec-lecture_0}\n",
        "### Integers or `int` {#sec-integers}\n",
        ":::{}\n",
        "* F-string formatting is a way to embed variables in strings, simply use ```print(f\"There are, {count} apples.\")```\n",
        "* In python an integer is referred to as an `int` \n",
        "* It's easy to interact with `int` variables natively in Python"
      ],
      "id": "2fc3c69d"
    },
    {
      "cell_type": "code",
      "metadata": {},
      "source": [
        "#| echo: true\n",
        "x = 1\n",
        "y = 2\n",
        "\n",
        "z = x + y\n",
        "\n",
        "print(z)"
      ],
      "id": "392060ed",
      "execution_count": null,
      "outputs": []
    },
    {
      "cell_type": "markdown",
      "metadata": {},
      "source": [
        "* You can improve upon the above program by using base Python functions"
      ],
      "id": "fd26aa69"
    },
    {
      "cell_type": "code",
      "metadata": {},
      "source": [
        "x = 5#int(input(\"What's x? \"))\n",
        "y = 4#int(input(\"What's y? \"))\n",
        "\n",
        "print(x + y)"
      ],
      "id": "5bced9bd",
      "execution_count": null,
      "outputs": []
    },
    {
      "cell_type": "markdown",
      "metadata": {},
      "source": [
        "::: {#nte-hardcoded_variables .callout-note}\n",
        "## Hardcoded Variable Values\n",
        "\n",
        "Quarto does not support user input code rendering, so the file preview fails with functions like `input()`. As a result, appropriate values are hard-coded.\n",
        ":::\n",
        "\n",
        ":::\n",
        "\n",
        "### Floats {#sec-floats}\n",
        ":::{}\n",
        "* A floating point value is a real number with a decimal, like `0.52`\n",
        "* Modifying the previous code to use the `float` data type allows you to perform operations on decimals too\n",
        "* When dealing with decimals, you may want or need to round the values\n",
        "* You can tie everything together with the following code, which rounds the sum to 2 decimal places\n",
        "  * Additionally, ```print(f\"{z:,}\")``` prints the variable `z` and adds a comma to the value"
      ],
      "id": "dde9d932"
    },
    {
      "cell_type": "code",
      "metadata": {},
      "source": [
        "# Get the user's input\n",
        "x = 2#float(input(\"What's x? \"))\n",
        "y = 3.3#float(input(\"What's y? \"))\n",
        "\n",
        "# Create a rounded result\n",
        "z = round(x + y, 2)\n",
        "\n",
        "# Print the formatted result\n",
        "print(f\"{z:,}\")"
      ],
      "id": "12e78a09",
      "execution_count": null,
      "outputs": []
    },
    {
      "cell_type": "markdown",
      "metadata": {},
      "source": [
        "* Finally, you could remove the piece of code that rounds the values with f-string formatting"
      ],
      "id": "0c3cfb63"
    },
    {
      "cell_type": "code",
      "metadata": {},
      "source": [
        "# Get the user's input\n",
        "x = 2.2#float(input(\"What's x? \"))\n",
        "y = 3.4#float(input(\"What's y? \"))\n",
        "\n",
        "# Calculate the result\n",
        "z = x / y\n",
        "\n",
        "# Print the result\n",
        "print(f\"{z:.2f}\")"
      ],
      "id": "7911c43f",
      "execution_count": null,
      "outputs": []
    },
    {
      "cell_type": "markdown",
      "metadata": {},
      "source": [
        ":::\n",
        "\n",
        "::: {#nte-numeric_operators .callout-note}\n",
        "## Python Numeric Operators\n",
        "\n",
        "Python has several built-in operators for numeric data types: `+`, `-`, `*`, `/`, `** (exponentiation)`, `% (remainder)`.\n",
        ":::\n",
        "\n",
        "### Def (User Defined Functions) {#sec-udf}\n",
        ":::{}\n",
        "* Use the `def` keyword to initialize a UDF (user-defined function)\n",
        "* Follow this with the function name, parentheses, and then any conditions in the parentheses"
      ],
      "id": "de3d8623"
    },
    {
      "cell_type": "code",
      "metadata": {},
      "source": [
        "def hello():\n",
        "    print(\"hello\")\n",
        "\n",
        "\n",
        "name = \"Chris\"#input(\"What's your name? \")\n",
        "hello()\n",
        "print(name)"
      ],
      "id": "975ca7f4",
      "execution_count": null,
      "outputs": []
    },
    {
      "cell_type": "markdown",
      "metadata": {},
      "source": [
        "* Notice how everything is indented under def, Python uses indentation to understand what's part of the function\n",
        "* Similar to other programming languages, Python utilizes main functions in scripts for the primary purpose\n",
        "* Utilize a main function and return a value as follows"
      ],
      "id": "0a60684b"
    },
    {
      "cell_type": "code",
      "metadata": {},
      "source": [
        "def main():\n",
        "    x = 3#int(input(\"What's x? \"))\n",
        "    print(\"x squared is\", square(x))\n",
        "\n",
        "\n",
        "def square(n):\n",
        "    return n * n\n",
        "\n",
        "\n",
        "main()"
      ],
      "id": "f98b09e7",
      "execution_count": null,
      "outputs": []
    },
    {
      "cell_type": "markdown",
      "metadata": {},
      "source": [
        ":::\n",
        "\n",
        "## Problem Set 0 {#sec-problem-set-0}"
      ],
      "id": "e5cfc680"
    },
    {
      "cell_type": "code",
      "metadata": {},
      "source": [
        "#| lst-label: lst-0_indoor\n",
        "#| lst-cap: Indoor Voice\n",
        "#| code-line-numbers: true\n",
        "\n",
        "# Problem Set 0, Problem 1\n",
        "# Prompt the user for input\n",
        "def ask_user():\n",
        "    global a\n",
        "    a = \"MY NAME IS WD-40\"\n",
        "    return a\n",
        "\n",
        "# Lowercase the string\n",
        "\n",
        "\n",
        "def a_lower():\n",
        "    print(a.lower())\n",
        "\n",
        "\n",
        "ask_user()\n",
        "a_lower()"
      ],
      "id": "6c242885",
      "execution_count": null,
      "outputs": []
    },
    {
      "cell_type": "code",
      "metadata": {},
      "source": [
        "#| lst-label: lst-0_playback\n",
        "#| lst-cap: Playback Speed\n",
        "#| code-line-numbers: true\n",
        "\n",
        "# Prompt the user for input\n",
        "def ask_user():\n",
        "    global a\n",
        "    a = \"Hello, it's very nice to meet you!\"\n",
        "    return a\n",
        "\n",
        "# Add the three periods\n",
        "\n",
        "\n",
        "def playback():\n",
        "    b = a.replace(' ', '...')\n",
        "    print(b)\n",
        "\n",
        "\n",
        "ask_user()\n",
        "playback()"
      ],
      "id": "c75361fb",
      "execution_count": null,
      "outputs": []
    },
    {
      "cell_type": "code",
      "metadata": {},
      "source": [
        "#| lst-label: lst-0_faces\n",
        "#| lst-cap: Making Faces\n",
        "#| code-line-numbers: true\n",
        "\n",
        "# Build main function\n",
        "def main():\n",
        "    # Prompt the user for a value\n",
        "    a = \":)\"\n",
        "\n",
        "    # Conver the input\n",
        "    b = convert(a)\n",
        "\n",
        "    return print(b)\n",
        "\n",
        "# Build the convert function\n",
        "def convert(val):\n",
        "    # Replace the slightly smiling and slightly frowning faces in place and overwrite the input variable\n",
        "    val = str(val).replace(\":)\", \"\\U0001F642\").replace(\":(\", \"\\U0001f641\")\n",
        "\n",
        "    return val\n",
        "\n",
        "\n",
        "main()"
      ],
      "id": "85dcd8b6",
      "execution_count": null,
      "outputs": []
    },
    {
      "cell_type": "code",
      "metadata": {},
      "source": [
        "#| lst-label: lst-0_einstein\n",
        "#| lst-cap: Einstein\n",
        "#| code-line-numbers: true\n",
        "\n",
        "def main():\n",
        "    # Prompt the user for an integer\n",
        "    m = int(50)\n",
        "\n",
        "    # Store the speed of light\n",
        "    c = 300000000\n",
        "\n",
        "    # Calculate the energy\n",
        "    e = m * (c ** 2)\n",
        "\n",
        "    return print(f\"E: {e}\")\n",
        "\n",
        "main()"
      ],
      "id": "47a62281",
      "execution_count": null,
      "outputs": []
    },
    {
      "cell_type": "code",
      "metadata": {},
      "source": [
        "#| lst-label: lst-0_tip\n",
        "#| lst-cap: Tip Calculator\n",
        "#| code-line-numbers: true\n",
        "\n",
        "def main():\n",
        "    meal = dollars_to_float(\"76.50\")\n",
        "    percent = percent_to_float(\"20%\")\n",
        "    tip = meal * percent\n",
        "    print(f\"Leave ${tip:.2f}\")\n",
        "\n",
        "\n",
        "def dollars_to_float(d):\n",
        "    # Should accept a str as input in excepted format of $##.## and remove the leading $\n",
        "    d = d.replace(\"$\", \"\")\n",
        "    # Convert d to a float\n",
        "    d = float(d)\n",
        "\n",
        "    return d\n",
        "\n",
        "\n",
        "def percent_to_float(p):\n",
        "    # Should accept a str as input in expected format of ##% and remove the trailing %\n",
        "    p = p.replace(\"%\", \"\")\n",
        "    # Return p as a percentage, stored as a decimal float\n",
        "    p = float(p) * 0.01\n",
        "\n",
        "    return p\n",
        "\n",
        "\n",
        "main()"
      ],
      "id": "9796f1f7",
      "execution_count": null,
      "outputs": []
    },
    {
      "cell_type": "markdown",
      "metadata": {},
      "source": [
        "# Unit 1: Conditionals {#sec-unit_1}\n",
        "## Lecture 1 {#sec-lecture_1}\n",
        ":::{}\n",
        "- Conditionals allow you to provide specific instructions in your program on how to handle various situations\n",
        "- Python has a set of built-in operators to compare a left hand term to a right hand term\n",
        "  - `> and <` are what you expect: greater than and less than, respectively. \n",
        "  - `>= and <=` follow the same pattern as above: greater than or equal to and less than or equal to, respectively.\n",
        "  - `== and !=` this denotes equal to and not equal to, respectively.\n",
        ":::\n",
        "\n",
        "::: {#nte-equal_sign_diff .callout-note}\n",
        "## Difference betweeen `=` and `==`\n",
        "\n",
        "Using a single `=` will assign a value on the right to the value on the left: `x = 2`; however, the double `==` will check if the value on the right equals the value on the left `x == 2`.  \n",
        ":::\n",
        "\n",
        "### if Statements {#sec-if}\n",
        "::: {}\n",
        "- `if` Statements use `bool` or boolean values (`true or false`) to decide whether to execute\n",
        "- To better understand if statement behavior look at the following code:"
      ],
      "id": "ce110ed9"
    },
    {
      "cell_type": "code",
      "metadata": {},
      "source": [
        "x = 5\n",
        "y = 4\n",
        "\n",
        "if x < y:\n",
        "    print(\"x is less than y\")\n",
        "if x > y:\n",
        "    print(\"x is greater than y\")\n",
        "if x == y:\n",
        "    print(\"x is equal to y\")"
      ],
      "id": "aa47c737",
      "execution_count": null,
      "outputs": []
    },
    {
      "cell_type": "markdown",
      "metadata": {},
      "source": [
        "- Python evaluates the first if statement and sees that 5 is not less than 4, so it does nothing\n",
        "  - Then, Python evaluates the second if statement and see that 5 is greater than 4, so it prints the message\n",
        "  - As a result, the program stops and the third statement is not evaluated (even though the third statement is not true anyways)\n",
        "  - This \"flow\" of decisions is called **`control flow`**\n",
        "- You can improve upon this flow using the `if` `elif` `else` syntax"
      ],
      "id": "5cd55bc3"
    },
    {
      "cell_type": "code",
      "metadata": {},
      "source": [
        "x = 5\n",
        "y = 5\n",
        "\n",
        "if x < y:\n",
        "    print(\"x is less than y\")\n",
        "elif x > y:\n",
        "    print(\"x is greater than y\")\n",
        "else:\n",
        "    print(\"x is equal to y\")"
      ],
      "id": "bd232a31",
      "execution_count": null,
      "outputs": []
    },
    {
      "cell_type": "markdown",
      "metadata": {},
      "source": [
        ":::\n",
        "\n",
        "### or Statements {#sec-or}\n",
        ":::{}\n",
        "- `or` allows your program to decide between one or more alternatives\n",
        "- When dealing with multiple conditions, using *or* can drastically decrease code complexity"
      ],
      "id": "7a2acf58"
    },
    {
      "cell_type": "code",
      "metadata": {},
      "source": [
        "x = 5\n",
        "y = 7\n",
        "\n",
        "if (x < y) or (x > y):\n",
        "    print(\"x is not equal to y\")\n",
        "else:\n",
        "    print(\"x is equal to y\")"
      ],
      "id": "6dd75975",
      "execution_count": null,
      "outputs": []
    },
    {
      "cell_type": "markdown",
      "metadata": {},
      "source": [
        "- This code block works, but we could improve upon it further by just checking to see if `x == y` or `x != y`\n",
        ":::\n",
        "\n",
        "### and Statements {#sec-and}\n",
        ":::{}\n",
        "- `and` statements are another type of conditional, they check whether something meets multiple conditions simultaneously \n",
        "- Starting with the following code, let's make some readability and functionality improvements"
      ],
      "id": "265cbfd8"
    },
    {
      "cell_type": "code",
      "metadata": {},
      "source": [
        "score = 78\n",
        "if score >= 90 and score <= 100:\n",
        "    print(\"Grade: A\")\n",
        "elif score >= 80 and score < 90:\n",
        "    print(\"Grade: B\")\n",
        "elif score >= 70 and score < 80:\n",
        "    print(\"Grade: C\")\n",
        "elif score >= 60 and score < 70:\n",
        "    print(\"Grade: D\")\n",
        "else:\n",
        "    print(\"Grade: F\")"
      ],
      "id": "dbe2e4db",
      "execution_count": null,
      "outputs": []
    },
    {
      "cell_type": "markdown",
      "metadata": {},
      "source": [
        "- A nice feature of python is you can chain together conditionals in an easy to understand format"
      ],
      "id": "2bf1edce"
    },
    {
      "cell_type": "code",
      "metadata": {},
      "source": [
        "score = 81\n",
        "if 90 <= score <= 100:\n",
        "    print(\"Grade: A\")\n",
        "elif 80 <= score < 90:\n",
        "    print(\"Grade: B\")\n",
        "elif 70 <= score < 80:\n",
        "    print(\"Grade: C\")\n",
        "elif 60 <= score < 70:\n",
        "    print(\"Grade: D\")\n",
        "else:\n",
        "    print(\"Grade: F\")"
      ],
      "id": "d3665389",
      "execution_count": null,
      "outputs": []
    },
    {
      "cell_type": "markdown",
      "metadata": {},
      "source": [
        "- Again, similar to `or` it's best to ask the simplest question in a conditional"
      ],
      "id": "f7167dff"
    },
    {
      "cell_type": "code",
      "metadata": {},
      "source": [
        "score = 90\n",
        "if score >= 90:\n",
        "    print(\"Grade: A\")\n",
        "elif score >= 80:\n",
        "    print(\"Grade: B\")\n",
        "elif score >= 70:\n",
        "    print(\"Grade: C\")\n",
        "elif score >= 60:\n",
        "    print(\"Grade: D\")\n",
        "else:\n",
        "    print(\"Grade: F\")"
      ],
      "id": "a9c1c1ab",
      "execution_count": null,
      "outputs": []
    },
    {
      "cell_type": "markdown",
      "metadata": {},
      "source": [
        ":::\n",
        "\n",
        "### Modulo {#sec-modulo}\n",
        ":::{}\n",
        "- Mentioned briefly in [@nte-numeric_operators], the `%` operator shows whether a number divides evenly or with a remainder\n",
        "  - For example, `24 % 2` evaluates to `0`, but `24 % 5` evaluates to 4 the *remainder*\n",
        "  - In mathematics, whether something is even or odd is referred to as parity\n",
        "- Discussed in [Unit @sec-udf] it's useful to create your own functions"
      ],
      "id": "ec2f8b84"
    },
    {
      "cell_type": "code",
      "metadata": {},
      "source": [
        "def main():\n",
        "    x = 21\n",
        "    if is_even(x):\n",
        "        print(\"Even\")\n",
        "    else:\n",
        "        print(\"Odd\")\n",
        "\n",
        "def is_even(n):\n",
        "    if n % 2 == 0:\n",
        "        return True\n",
        "    else:\n",
        "        return False\n",
        "\n",
        "main()"
      ],
      "id": "011b151b",
      "execution_count": null,
      "outputs": []
    },
    {
      "cell_type": "markdown",
      "metadata": {},
      "source": [
        "- In programming, the phrase *Pythonic* refers to a way to code something that only occurs in Python\n",
        "- You can further refine your code and abstract away some of the process using native Python functionality\n",
        "- Simplify `is_even(n)` to the following\n",
        "  - Recall that `==` evaluates whether something is equal or not, it returns a `Bool`"
      ],
      "id": "190c7ede"
    },
    {
      "cell_type": "code",
      "metadata": {},
      "source": [
        "def main():\n",
        "    x = 94\n",
        "    if is_even(x):\n",
        "        print(\"Even\")\n",
        "    else:\n",
        "        print(\"Odd\")\n",
        "\n",
        "def is_even(n):\n",
        "    return n % 2 == 0\n",
        "\n",
        "main()"
      ],
      "id": "a276a4db",
      "execution_count": null,
      "outputs": []
    },
    {
      "cell_type": "markdown",
      "metadata": {},
      "source": [
        ":::\n",
        "\n",
        "### match Statements {#sec-match}\n",
        ":::{}\n",
        "- Similar to other conditional statements, `match` can be used to run code that matches a certain value\n",
        "- The structure follows the Python pattern of identation with conditions and uses the keywords `match` and `case`"
      ],
      "id": "ea6965db"
    },
    {
      "cell_type": "code",
      "metadata": {},
      "source": [
        "name = \"Ron\"\n",
        "\n",
        "match name:\n",
        "    case \"Harry\":\n",
        "        print(\"Gryffindor\")\n",
        "    case \"Ron\":\n",
        "        print(\"Gryffindor\")\n",
        "    case \"Hermione\":\n",
        "        print(\"Gryffindor\")\n",
        "    case \"Draco\":\n",
        "        print(\"Slytherin\")\n",
        "    case _:\n",
        "        print(\"Who?\")"
      ],
      "id": "1d0972ac",
      "execution_count": null,
      "outputs": []
    },
    {
      "cell_type": "markdown",
      "metadata": {},
      "source": [
        "- The `_` functions similar to an `else` statement as it takes in all values\n",
        "- This statement compares the value following `match` with each value following `case`\n",
        "  - In the event a match is found, the indented code is executed and the search *stops*\n",
        "- Improve upon the code by using the `|` operator, which equates to `or` and checks multiple values in the same case statement"
      ],
      "id": "5c5ffccf"
    },
    {
      "cell_type": "code",
      "metadata": {},
      "source": [
        "name = \"Hermione\"\n",
        "\n",
        "match name:\n",
        "    case \"Harry\" | \"Ron\" | \"Hermione\":\n",
        "        print(\"Gryffindor\")\n",
        "    case \"Draco\":\n",
        "        print(\"Slytherin\")\n",
        "    case _:\n",
        "        print(\"Who?\")"
      ],
      "id": "d918cab9",
      "execution_count": null,
      "outputs": []
    },
    {
      "cell_type": "markdown",
      "metadata": {},
      "source": [
        ":::\n",
        "\n",
        "## Problem Set 1 {#sec-problem-set-1}"
      ],
      "id": "95ccc3ed"
    },
    {
      "cell_type": "code",
      "metadata": {},
      "source": [
        "#| lst-label: lst-1_thought\n",
        "#| lst-cap: Deep Thought\n",
        "#| code-line-numbers: true\n",
        "\n",
        "# Build the main function\n",
        "def main():\n",
        "    # Prompt the user for the answer to the Great Question of Life, the Universe and Everything\n",
        "    ans = (\"ForTy-tWo\").lower().strip()\n",
        "\n",
        "    match ans:\n",
        "        case \"42\" | \"forty-two\" | \"forty two\":\n",
        "            return print(\"Yes\")\n",
        "        case _:\n",
        "            return print(\"No\")\n",
        "\n",
        "\n",
        "main()"
      ],
      "id": "1f70843c",
      "execution_count": null,
      "outputs": []
    },
    {
      "cell_type": "markdown",
      "metadata": {},
      "source": [
        ":::{#tip-case_conditions .callout-tip}\n",
        "## Case Conditions\n",
        "\n",
        "The `case _ if` syntax allows you to add conditions to each case when using a match statement. Combine this with the `in` operator to perform searches in strings: `case _ if h in hello`. \n",
        ":::"
      ],
      "id": "0839ba32"
    },
    {
      "cell_type": "code",
      "metadata": {},
      "source": [
        "#| lst-label: lst-1_bank\n",
        "#| lst-cap: Home Federal Savings Bank\n",
        "#| code-line-numbers: true\n",
        "\n",
        "# Build the main function\n",
        "def main():\n",
        "    # Prompt the user for a greeting\n",
        "    greet = (\"How you doing?\").lower().strip()\n",
        "\n",
        "    # Decide how much money the user gets\n",
        "    match greet:\n",
        "         case _ if greet.startswith(\"hello\"):\n",
        "              return print(\"$0\")\n",
        "         case _ if greet.startswith(\"h\"):\n",
        "              return print(\"$20\")\n",
        "         case _:\n",
        "              return print(\"$100\")\n",
        "\n",
        "\n",
        "main()"
      ],
      "id": "3e9f4c23",
      "execution_count": null,
      "outputs": []
    },
    {
      "cell_type": "code",
      "metadata": {},
      "source": [
        "#| lst-label: lst-1_file\n",
        "#| lst-cap: File Extensions\n",
        "#| code-line-numbers: true\n",
        "\n",
        "# Build the main function\n",
        "def main():\n",
        "    # Put the necessary extensions in a tuple\n",
        "    ext = (\".gif\", \".jpg\", \".jpeg\", \".png\", \".pdf\", \".txt\", \".zip\")\n",
        "    # Group those into MIME types\n",
        "    mime = (\"image/gif\", \"image/jpeg\", \"image/png\", \"application/pdf\", \"text/plain\", \"application/zip\")\n",
        "    # Get the user's file\n",
        "    file = \"virus.png\".lower().strip()\n",
        "\n",
        "    # Check which MIME type the file is and return the value\n",
        "    if file.endswith(ext):\n",
        "        if file.split('.')[-1] == ext[1].split('.')[-1] or file.split('.')[-1] == ext[2].split('.')[-1]:\n",
        "            return print(mime[1])\n",
        "        elif file.split('.')[-1] == ext[0].split('.')[-1]:\n",
        "            return print(mime[0])\n",
        "        elif file.split('.')[-1] == ext[3].split('.')[-1]:\n",
        "            return print(mime[2])\n",
        "        elif file.split('.')[-1] == ext[4].split('.')[-1]:\n",
        "            return print(mime[3])\n",
        "        elif file.split('.')[-1] == ext[-2].split('.')[-1]:\n",
        "            return print(mime[-2])\n",
        "        else:\n",
        "            return print(mime[-1])\n",
        "    else:\n",
        "        return print(\"application/octet-stream\")\n",
        "\n",
        "\n",
        "main()"
      ],
      "id": "2f18b73d",
      "execution_count": null,
      "outputs": []
    },
    {
      "cell_type": "markdown",
      "metadata": {},
      "source": [
        ":::{#nte-repetitive_code .callout-note}\n",
        "There are far more efficient ways to do the above, including using a dictionary and iterators. Those are covered in the next unit.\n",
        ":::"
      ],
      "id": "c7b5e547"
    },
    {
      "cell_type": "code",
      "metadata": {},
      "source": [
        "#| lst-label: lst-1_math\n",
        "#| lst-cap: Math Interpreter\n",
        "#| code-line-numbers: true\n",
        "\n",
        "# Build the main function\n",
        "def main():\n",
        "    # Prompt the user for an expression\n",
        "    exp = \"52 / 6\"\n",
        "\n",
        "    # Split the expression into x, y, and z\n",
        "    x, y, z = exp.split(' ')\n",
        "\n",
        "    # Ensure Data Quality\n",
        "    x = float(x)\n",
        "    z = float(z)\n",
        "\n",
        "    # Evaluate the expression\n",
        "    match y:\n",
        "        case _ if y == '+':\n",
        "            return print(x + z)\n",
        "        case _ if y == '-':\n",
        "            return print(x - z)\n",
        "        case _ if y == '*':\n",
        "            return print(x * z)\n",
        "        case _ if y == '/':\n",
        "            return print(x / z)\n",
        "        case _:\n",
        "            return 0\n",
        "\n",
        "\n",
        "main()"
      ],
      "id": "f0b32ee4",
      "execution_count": null,
      "outputs": []
    },
    {
      "cell_type": "code",
      "metadata": {},
      "source": [
        "#| lst-label: lst-1_meal\n",
        "#| lst-cap: Meal Time\n",
        "#| code-line-numbers: true\n",
        "\n",
        "# Build the main function\n",
        "def main():\n",
        "    # Prompt the user for the time\n",
        "    ut = input(\"7:03\")\n",
        "\n",
        "    # Convert the time to a float\n",
        "    tm = convert(ut)\n",
        "\n",
        "    # Return what meal corresponds to the time, if any\n",
        "    match tm:\n",
        "        case _ if 7.00 <= tm <= 8.00:\n",
        "            return print(\"breakfast time\")\n",
        "        case _ if 12.00 <= tm <= 13.00:\n",
        "            return print(\"lunch time\")\n",
        "        case _ if 18.00 <= tm <= 19.00:\n",
        "            return print(\"dinner time\")\n",
        "        case _:\n",
        "            return exit\n",
        "\n",
        "def convert(time):\n",
        "    # Convert the string via code that performs several operations at once\n",
        "    # The string time is split at the ':', the first item is converted to float\n",
        "    # The Second item is converted to float and then divided by 60 to convert it to a decimal\n",
        "    time = float(time.split(\":\")[0]) + float(time.split(\":\")[1])/60\n",
        "\n",
        "    return time\n",
        "\n",
        "\n",
        "\n",
        "if __name__ == '__main__':\n",
        "    main()"
      ],
      "id": "be9430c2",
      "execution_count": null,
      "outputs": []
    }
  ],
  "metadata": {
    "kernelspec": {
      "name": "python3",
      "language": "python",
      "display_name": "Python 3 (ipykernel)",
      "path": "/Users/chriskornaros/Documents/Computer-Science/CS50p/.venv/share/jupyter/kernels/python3"
    }
  },
  "nbformat": 4,
  "nbformat_minor": 5
}